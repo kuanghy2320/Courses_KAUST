{
 "cells": [
  {
   "cell_type": "code",
   "execution_count": 98,
   "id": "a568ec7c",
   "metadata": {},
   "outputs": [],
   "source": [
    "# write an SGD optimization loop to find the parameters W of the multiclass logistic regression for\n",
    "# the Iris data set. Can you give an interpretation for the 3 rows of W ?"
   ]
  },
  {
   "cell_type": "code",
   "execution_count": 99,
   "id": "bcb94714",
   "metadata": {},
   "outputs": [],
   "source": [
    "import pandas as pd\n",
    "import numpy as np\n",
    "import matplotlib.pyplot as plt\n",
    "import torch\n",
    "from sklearn.model_selection import train_test_split\n",
    "import seaborn as sns\n",
    "from sklearn.metrics import confusion_matrix\n"
   ]
  },
  {
   "cell_type": "code",
   "execution_count": 100,
   "id": "f752334f",
   "metadata": {},
   "outputs": [],
   "source": [
    "\n",
    "# read the iris data\n",
    "df = pd.read_csv('/home/kuangh/Desktop/Code/Math Foundation of ML/data/iris.csv')\n",
    "feature_names = df.keys()\n",
    "X = df.iloc[:, 0:4].to_numpy()\n",
    "\n"
   ]
  },
  {
   "cell_type": "code",
   "execution_count": 101,
   "id": "311e6819",
   "metadata": {},
   "outputs": [],
   "source": [
    "# add a '1' feature to every data sample to obtain 5 features\n",
    "# X is a matrix of shape (150,5)\n",
    "# 150 data samples, each has 5 features (4 original features + 1 bias feature)\n",
    "X = np.hstack((X, np.ones((X.shape[0], 1))))\n",
    "x_tensor = torch.tensor(X, dtype=torch.float32)\n",
    "\n",
    "# convert the string labels to integers 0,1,2\n",
    "# Iris-setosa -> 0\n",
    "# Iris-versicolor -> 1\n",
    "# Iris-virginica -> 2\n",
    "# y is a vector of shape (150,)\n",
    "y = df.iloc[:, 4].to_numpy()\n",
    "y[y == 'Iris-setosa'] = 0\n",
    "y[y == 'Iris-versicolor'] = 1\n",
    "y[y == 'Iris-virginica'] = 2\n",
    "y = y.astype(int)\n",
    "y_tensor = torch.tensor(y, dtype=torch.long)"
   ]
  },
  {
   "cell_type": "code",
   "execution_count": 102,
   "id": "a1a2adef",
   "metadata": {},
   "outputs": [],
   "source": [
    "# devide the data into training and test sets randomly\n",
    "# 120 training samples, 30 test samples\n",
    "x_train, x_test, y_train, y_test = train_test_split(x_tensor, y_tensor, test_size=0.2, random_state=42)\n",
    "\n",
    "# another way to devide the data into training and test sets randomly\n",
    "# random_indices = np.random.permutation(x_tensor.shape[0])\n",
    "# x_tensor = x_tensor[random_indices, :]\n",
    "# y_tensor = y_tensor[random_indices]\n",
    "# X_train = x_tensor[0:120, :]\n",
    "# y_train = y_tensor[0:120]\n",
    "# X_test = x_tensor[120:150, :]\n",
    "# y_test = y_tensor[120:150]"
   ]
  },
  {
   "cell_type": "code",
   "execution_count": 103,
   "id": "c220f92d",
   "metadata": {},
   "outputs": [
    {
     "name": "stdout",
     "output_type": "stream",
     "text": [
      "Epoch 0, Loss: 9.067761421203613\n",
      "Epoch 100, Loss: 0.565281331539154\n",
      "Epoch 200, Loss: 0.37719395756721497\n",
      "Epoch 300, Loss: 0.35717254877090454\n",
      "Epoch 400, Loss: 0.27529972791671753\n",
      "Epoch 500, Loss: 0.3533789813518524\n",
      "Epoch 600, Loss: 0.22658640146255493\n",
      "Epoch 700, Loss: 0.1831960827112198\n",
      "Epoch 800, Loss: 0.25886887311935425\n",
      "Epoch 900, Loss: 0.20511609315872192\n"
     ]
    }
   ],
   "source": [
    "# initiate the parameters W of the multiclass logistic regression\n",
    "# W is a matrix of shape (3,5)\n",
    "# 3 rows, each row corresponds to one class\n",
    "# 5 columns, each column corresponds to one feature\n",
    "\n",
    "W = torch.randn(3, 5, requires_grad=True)\n",
    "B = 30 #batch size\n",
    "\n",
    "# set the learning rate and the number of epochs\n",
    "learning_rate = 0.01\n",
    "num_epochs = 1000\n",
    "\n",
    "for epoch in range(num_epochs):\n",
    "    # compute the scores for each class\n",
    "    # scores is a matrix of shape (120,3)\n",
    "    # 120 training samples, each sample has 3 scores (one for each class)\n",
    "    \n",
    "    # shuffle training data\n",
    "    perm = torch.randperm(x_train.shape[0])\n",
    "    x_train = x_train[perm]\n",
    "    y_train = y_train[perm]\n",
    "    for i in range(0, x_train.shape[0], B):\n",
    "        x_batch = x_train[i:i+B, :]\n",
    "        y_batch = y_train[i:i+B]\n",
    "\n",
    "        scores = x_batch @ W.T\n",
    "\n",
    "        # compute the probabilities for each class using softmax\n",
    "        # probs is a matrix of shape (120,3)\n",
    "        # 120 training samples, each sample has 3 probabilities (one for each class)\n",
    "        probs = torch.softmax(scores, dim=1)\n",
    "\n",
    "        # compute the negative log likelihood loss\n",
    "        # loss is a scalar\n",
    "        loss = torch.nn.functional.nll_loss(torch.log(probs), y_batch)\n",
    "\n",
    "        # compute the gradients of the loss with respect to W\n",
    "        loss.backward()\n",
    "\n",
    "        # update the parameters W using SGD\n",
    "        with torch.no_grad():\n",
    "            W -= learning_rate * W.grad\n",
    "\n",
    "        # zero the gradients after updating\n",
    "        W.grad.zero_()\n",
    "\n",
    "    # print the loss every 100 epochs\n",
    "    if epoch % 100 == 0:\n",
    "        print(f'Epoch {epoch}, Loss: {loss.item()}')\n"
   ]
  },
  {
   "cell_type": "code",
   "execution_count": 104,
   "id": "408c5675",
   "metadata": {},
   "outputs": [
    {
     "name": "stdout",
     "output_type": "stream",
     "text": [
      "tensor([[ 1.0979,  2.3755, -2.7259,  0.9769,  0.8106],\n",
      "        [ 0.5272,  1.3630,  0.8263, -1.5798, -0.8481],\n",
      "        [-0.6825, -0.2220,  2.6115,  0.9613, -1.6703]], requires_grad=True)\n"
     ]
    }
   ],
   "source": [
    "print(W)"
   ]
  },
  {
   "cell_type": "code",
   "execution_count": 105,
   "id": "b0009094",
   "metadata": {},
   "outputs": [
    {
     "name": "stdout",
     "output_type": "stream",
     "text": [
      "Test Accuracy: 0.9666666388511658\n",
      "Confusion Matrix:\n",
      "[[10  0  0]\n",
      " [ 0  8  1]\n",
      " [ 0  0 11]]\n"
     ]
    },
    {
     "data": {
      "image/png": "[encoded data removed]",
      "text/plain": [
       "<Figure size 800x600 with 2 Axes>"
      ]
     },
     "metadata": {},
     "output_type": "display_data"
    }
   ],
   "source": [
    "\n",
    "# evaluate the model on the test set\n",
    "with torch.no_grad():\n",
    "    scores_test = x_test @ W.T\n",
    "    probs_test = torch.softmax(scores_test, dim=1)\n",
    "    predicted_classes = torch.argmax(probs_test, dim=1)\n",
    "    accuracy = (predicted_classes == y_test).float().mean()\n",
    "    print(f'Test Accuracy: {accuracy.item()}')\n",
    "\n",
    "# generate a confusion matrix\n",
    "cm = confusion_matrix(y_test.numpy(), predicted_classes.numpy())\n",
    "print('Confusion Matrix:')\n",
    "print(cm)\n",
    "\n",
    "# visualize the confusion matrix\n",
    "plt.figure(figsize=(8, 6))\n",
    "sns.heatmap(cm, annot=True, fmt='d', cmap='Blues', xticklabels=['Setosa', 'Versicolor', 'Virginica'], yticklabels=['Setosa', 'Versicolor', 'Virginica'])\n",
    "plt.xlabel('Predicted')\n",
    "plt.ylabel('True')\n",
    "plt.title('Confusion Matrix')\n",
    "plt.show()"
   ]
  },
  {
   "cell_type": "code",
   "execution_count": 106,
   "id": "9f60345f",
   "metadata": {},
   "outputs": [
    {
     "name": "stdout",
     "output_type": "stream",
     "text": [
      "tensor([[ 1.0979,  2.3755, -2.7259,  0.9769,  0.8106],\n",
      "        [ 0.5272,  1.3630,  0.8263, -1.5798, -0.8481],\n",
      "        [-0.6825, -0.2220,  2.6115,  0.9613, -1.6703]], requires_grad=True)\n"
     ]
    }
   ],
   "source": [
    "# can you give an interpretation for each row of W\n",
    "print(W)"
   ]
  }
 ],
 "metadata": {
  "kernelspec": {
   "display_name": "Python 3",
   "language": "python",
   "name": "python3"
  },
  "language_info": {
   "codemirror_mode": {
    "name": "ipython",
    "version": 3
   },
   "file_extension": ".py",
   "mimetype": "text/x-python",
   "name": "python",
   "nbconvert_exporter": "python",
   "pygments_lexer": "ipython3",
   "version": "3.8.10"
  }
 },
 "nbformat": 4,
 "nbformat_minor": 5
}
