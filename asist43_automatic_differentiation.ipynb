{
 "cells": [
  {
   "cell_type": "code",
   "execution_count": 15,
   "id": "90e14d24",
   "metadata": {},
   "outputs": [
    {
     "data": {
      "text/plain": [
       "'manual_computational_graph.png'"
      ]
     },
     "execution_count": 15,
     "metadata": {},
     "output_type": "execute_result"
    }
   ],
   "source": [
    "import torch\n",
    "from graphviz import Digraph\n",
    "\n",
    "# Create a new graph\n",
    "dot = Digraph(graph_attr={\"rankdir\": \"LR\"})\n",
    "\n",
    "# Variables\n",
    "dot.node(\"x1\", \"C1=X1\")\n",
    "dot.node(\"x2\", \"C2=X2\")\n",
    "\n",
    "# Operations\n",
    "dot.node(\"square1\", \"C3=X1^2\")\n",
    "dot.node(\"square2\", \"C4=X2^2\")\n",
    "dot.node(\"add\", \"C5=X1^2+X2^2\")\n",
    "dot.node(\"exp\", \"C6=exp(X1)\")\n",
    "dot.node(\"f\", \"C7=C5^3*C6\")\n",
    "\n",
    "# Connect nodes\n",
    "dot.edges([(\"x1\", \"square1\"), (\"x2\", \"square2\")])\n",
    "dot.edge(\"square1\", \"add\")\n",
    "dot.edge(\"square2\", \"add\")\n",
    "dot.edge(\"add\", \"f\")\n",
    "dot.edge(\"x1\", \"exp\")\n",
    "dot.edge(\"exp\", \"f\")\n",
    "\n",
    "# Render graph\n",
    "dot.render(\"manual_computational_graph\", format=\"png\", cleanup=True)\n"
   ]
  },
  {
   "cell_type": "code",
   "execution_count": null,
   "id": "a7837e6f",
   "metadata": {},
   "outputs": [],
   "source": [
    "# Create a new graph\n",
    "dot = Digraph(graph_attr={\"rankdir\": \"LR\"})\n",
    "\n",
    "# Variables\n",
    "dot.node(\"x1\", \"C1=dx1/dx1=1\")\n",
    "dot.node(\"x2\", \"C2=dx2/dx1=0\")\n",
    "\n",
    "# Operations\n",
    "dot.node(\"square1\", \"C3=d(C1^2)/dx1=2*C1*dx1/dx1=0\")\n",
    "dot.node(\"square2\", \"C4=X2^2\")\n",
    "dot.node(\"add\", \"C5=X1^2+X2^2\")\n",
    "dot.node(\"exp\", \"C6=exp(X1)\")\n",
    "dot.node(\"f\", \"C7=C5^3*C6\")\n",
    "\n",
    "# Connect nodes\n",
    "dot.edges([(\"x1\", \"square1\"), (\"x2\", \"square2\")])\n",
    "dot.edge(\"square1\", \"add\")\n",
    "dot.edge(\"square2\", \"add\")\n",
    "dot.edge(\"add\", \"f\")\n",
    "dot.edge(\"x1\", \"exp\")\n",
    "dot.edge(\"exp\", \"f\")\n",
    "\n",
    "# Render graph\n",
    "dot.render(\"manual_computational_graph\", format=\"png\", cleanup=True)\n"
   ]
  },
  {
   "cell_type": "code",
   "execution_count": null,
   "id": "3a25382e",
   "metadata": {},
   "outputs": [
    {
     "name": "stdout",
     "output_type": "stream",
     "text": [
      "df/dx1 = 64.0\n",
      "df/dx2 = 192.0\n"
     ]
    },
    {
     "data": {
      "text/plain": [
       "'manual_computational_graph2.png'"
      ]
     },
     "execution_count": 8,
     "metadata": {},
     "output_type": "execute_result"
    }
   ],
   "source": [
    "# Define inputs (PyTorch handles grads)\n",
    "x1 = torch.tensor(0.0, requires_grad=True)\n",
    "x2 = torch.tensor(2.0, requires_grad=True)\n",
    "\n",
    "# Define function in PyTorch\n",
    "f = torch.exp(x1) * (x1**2 + x2**2)**3\n",
    "\n",
    "# Backward pass to confirm grads work (optional)\n",
    "f.backward()\n",
    "\n",
    "print(\"df/dx1 =\", x1.grad.item())\n",
    "print(\"df/dx2 =\", x2.grad.item())\n",
    "\n",
    "# show the intermediate values in the computational graph\n",
    "dot = Digraph(graph_attr={\"rankdir\": \"LR\"})\n",
    "# Variables\n",
    "dot.node(\"x1\", f\"C1: {x1.item():.2f}\")\n",
    "dot.node(\"x2\", f\"C2: {x2.item():.2f}\")\n",
    "# Operations\n",
    "dot.node(\"square1\", f\"^2: {x1.item()**2:.2f}\")\n",
    "dot.node(\"square2\", f\"^2: {x2.item()**2:.2f}\")\n",
    "dot.node(\"add\", f\"+: {x1.item()**2 + x2.item()**2:.2f}\")\n",
    "dot.node(\"pow\", f\"^3  : {(x1.item()**2 + x2.item()**2)**3:.2f}\")\n",
    "dot.node(\"exp\", f\"exp: {torch.exp(x1).item():.2f}\")\n",
    "dot.node(\"mul\", f\"*: {torch.exp(x1).item() * (x1.item()**2 + x2.item()**2)**3:.2f}\")\n",
    "dot.node(\"f\", f\"C7: {f.item():.2f}\")\n",
    "# Connect nodes\n",
    "dot.edges([(\"x1\", \"square1\"), (\"x2\", \"square2\")])\n",
    "dot.edge(\"square1\", \"add\")\n",
    "dot.edge(\"square2\", \"add\")\n",
    "dot.edge(\"add\", \"pow\")\n",
    "dot.edge(\"pow\", \"mul\")\n",
    "dot.edge(\"x1\", \"exp\")\n",
    "dot.edge(\"exp\", \"mul\")\n",
    "dot.edge(\"mul\", \"f\")\n",
    "\n",
    "# Render graph\n",
    "dot.render(\"manual_computational_graph2\", format=\"png\", cleanup=True)\n"
   ]
  },
  {
   "cell_type": "code",
   "execution_count": null,
   "id": "12e2f8cb",
   "metadata": {},
   "outputs": [],
   "source": []
  }
 ],
 "metadata": {
  "kernelspec": {
   "display_name": "Python 3",
   "language": "python",
   "name": "python3"
  },
  "language_info": {
   "codemirror_mode": {
    "name": "ipython",
    "version": 3
   },
   "file_extension": ".py",
   "mimetype": "text/x-python",
   "name": "python",
   "nbconvert_exporter": "python",
   "pygments_lexer": "ipython3",
   "version": "3.8.10"
  }
 },
 "nbformat": 4,
 "nbformat_minor": 5
}
