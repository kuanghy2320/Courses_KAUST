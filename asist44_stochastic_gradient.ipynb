{
 "cells": [
  {
   "cell_type": "code",
   "execution_count": 115,
   "id": "1270b323",
   "metadata": {},
   "outputs": [
    {
     "name": "stdout",
     "output_type": "stream",
     "text": [
      "Cuda installed! Running on GPU!\n",
      "Device: cuda:0 Quadro K2200\n"
     ]
    }
   ],
   "source": [
    "import pandas as pd\n",
    "import numpy as np\n",
    "import matplotlib.pyplot as plt\n",
    "import torch\n",
    "import random\n",
    "\n",
    "def set_seed(seed):\n",
    "    \"\"\"Set all random seeds to a fixed value and take out any randomness from cuda kernels\n",
    "    \"\"\"\n",
    "    random.seed(seed)\n",
    "    np.random.seed(seed)\n",
    "    torch.manual_seed(seed)\n",
    "    torch.cuda.manual_seed_all(seed)\n",
    "    torch.backends.cudnn.benchmark = False\n",
    "    torch.backends.cudnn.enabled   = False\n",
    "\n",
    "\n",
    "def set_device():\n",
    "    device = 'cpu'\n",
    "    if torch.cuda.device_count() > 0 and torch.cuda.is_available():\n",
    "        print(\"Cuda installed! Running on GPU!\")\n",
    "        device = torch.device(torch.cuda.current_device())\n",
    "        print(f'Device: {device} {torch.cuda.get_device_name(device)}')\n",
    "    else:\n",
    "        print(\"No GPU available!\")\n",
    "    return device\n",
    "\n",
    "set_seed(100)\n",
    "device = set_device()"
   ]
  },
  {
   "cell_type": "code",
   "execution_count": 116,
   "id": "3819f936",
   "metadata": {},
   "outputs": [
    {
     "data": {
      "image/png": "[encoded data removed]",
      "text/plain": [
       "<Figure size 640x480 with 12 Axes>"
      ]
     },
     "metadata": {},
     "output_type": "display_data"
    }
   ],
   "source": [
    "# read MNIST training data\n",
    "df = pd.read_csv('data/mnist_train.csv')\n",
    "X = df.iloc[:, 1:].to_numpy() / 255.0       # values are scaled to be between 0 and 1\n",
    "y = df.iloc[:, 0].to_numpy()                # labels of images\n",
    "\n",
    "# write a binary classifier that classifies whether the digit is 5 or not\n",
    "y_binary = (y == 5).astype(int)\n",
    "\n",
    "# plot the first dozen images from the data set\n",
    "plt.figure()\n",
    "for i in range(12):\n",
    "    plt.subplot(3, 4, i+1, xticks=[], yticks=[])\n",
    "    image = X[i, :].reshape((28,28))\n",
    "    plt.imshow(image, cmap='gray')\n"
   ]
  },
  {
   "cell_type": "code",
   "execution_count": 117,
   "id": "d0628cfa",
   "metadata": {},
   "outputs": [
    {
     "name": "stdout",
     "output_type": "stream",
     "text": [
      "Difference in dJ/dw: tensor(5.3828, grad_fn=<LinalgVectorNormBackward0>)\n",
      "Difference in dJ/db: tensor([0.8995], grad_fn=<AbsBackward0>)\n"
     ]
    }
   ],
   "source": [
    "# convert to torch tensors\n",
    "X_tensor = torch.tensor(X, dtype=torch.float32)\n",
    "y_tensor = torch.tensor(y_binary, dtype=torch.float32)\n",
    "\n",
    "# make w and b require gradients and be randomly initialized\n",
    "w_tensor = torch.rand(784, dtype=torch.float32, requires_grad=True)\n",
    "b_tensor = torch.rand(1, dtype=torch.float32, requires_grad=True)\n",
    "\n",
    "def model(X, w, b):\n",
    "    return torch.sigmoid(torch.matmul(X, w) + b)\n",
    "\n",
    "def loss_fn(y_pred, y):\n",
    "    eps = 1e-8\n",
    "    return -torch.mean(y * torch.log(y_pred + eps) + (1 - y) * torch.log(1 - y_pred + eps))\n",
    "\n",
    "# compute the initial loss function gradient at (w, b) using Pytorch backpropagation\n",
    "y_pred_tensor = model(X_tensor, w_tensor, b_tensor)\n",
    "loss = loss_fn(y_pred_tensor, y_tensor)\n",
    "loss.backward()\n",
    "\n",
    "# compute the initial loss function gradient at (w, b) mannually\n",
    "dJ_dw = torch.matmul(model(X_tensor, w_tensor, b_tensor) - y_tensor, X_tensor) / X_tensor.shape[0]\n",
    "dJ_db = torch.sum(model(X_tensor, w_tensor, b_tensor) - y_tensor) / X_tensor.shape[0]\n",
    "\n",
    "# compare the two gradients\n",
    "print(\"Difference in dJ/dw:\", torch.norm(dJ_dw - w_tensor.grad))\n",
    "print(\"Difference in dJ/db:\", torch.abs(dJ_db - b_tensor.grad))\n"
   ]
  },
  {
   "cell_type": "code",
   "execution_count": 121,
   "id": "06f4c1fd",
   "metadata": {},
   "outputs": [
    {
     "name": "stdout",
     "output_type": "stream",
     "text": [
      "Stochastic gradient dJ/dw: tensor([0.0000, 0.0000, 0.0000, 0.0000, 0.0000, 0.0000, 0.0000, 0.0000, 0.0000,\n",
      "        0.0000, 0.0000, 0.0000, 0.0000, 0.0000, 0.0000, 0.0000, 0.0000, 0.0000,\n",
      "        0.0000, 0.0000, 0.0000, 0.0000, 0.0000, 0.0000, 0.0000, 0.0000, 0.0000,\n",
      "        0.0000, 0.0000, 0.0000, 0.0000, 0.0000, 0.0000, 0.0000, 0.0000, 0.0000,\n",
      "        0.0000, 0.0000, 0.0000, 0.0000, 0.0000, 0.0000, 0.0000, 0.0000, 0.0000,\n",
      "        0.0000, 0.0000, 0.0000, 0.0000, 0.0000, 0.0000, 0.0000, 0.0000, 0.0000,\n",
      "        0.0000, 0.0000, 0.0000, 0.0000, 0.0000, 0.0000, 0.0000, 0.0000, 0.0000,\n",
      "        0.0000, 0.0000, 0.0000, 0.0000, 0.0000, 0.0000, 0.0000, 0.0000, 0.0000,\n",
      "        0.0000, 0.0000, 0.0000, 0.0000, 0.0000, 0.0000, 0.0000, 0.0000, 0.0000,\n",
      "        0.0000, 0.0000, 0.0000, 0.0000, 0.0000, 0.0000, 0.0000, 0.0000, 0.0000,\n",
      "        0.0000, 0.0000, 0.0000, 0.0000, 0.0000, 0.0000, 0.0000, 0.0000, 0.0000,\n",
      "        0.0000, 0.0000, 0.0000, 0.0000, 0.0000, 0.0000, 0.0000, 0.0000, 0.0000,\n",
      "        0.0000, 0.0000, 0.0000, 0.0000, 0.0000, 0.0000, 0.0000, 0.0000, 0.0000,\n",
      "        0.0000, 0.0000, 0.0000, 0.0000, 0.0000, 0.0000, 0.0000, 0.0000, 0.0000,\n",
      "        0.0000, 0.0000, 0.0000, 0.0000, 0.0000, 0.0000, 0.0000, 0.0000, 0.0000,\n",
      "        0.0000, 0.0000, 0.0000, 0.0000, 0.0000, 0.0000, 0.0000, 0.0000, 0.0000,\n",
      "        0.0000, 0.0000, 0.0000, 0.0000, 0.0000, 0.0000, 0.0000, 0.0000, 0.0000,\n",
      "        0.0000, 0.0094, 0.0231, 0.0013, 0.0000, 0.0000, 0.0000, 0.0000, 0.0000,\n",
      "        0.0000, 0.0000, 0.0000, 0.0000, 0.0000, 0.0000, 0.0000, 0.0000, 0.0000,\n",
      "        0.0000, 0.0000, 0.0000, 0.0000, 0.0000, 0.0000, 0.0000, 0.0000, 0.0000,\n",
      "        0.0000, 0.0029, 0.0295, 0.0298, 0.0120, 0.0000, 0.0000, 0.0000, 0.0000,\n",
      "        0.0000, 0.0000, 0.0000, 0.0000, 0.0000, 0.0000, 0.0000, 0.0000, 0.0000,\n",
      "        0.0000, 0.0000, 0.0000, 0.0000, 0.0000, 0.0000, 0.0000, 0.0000, 0.0000,\n",
      "        0.0000, 0.0004, 0.0186, 0.0299, 0.0298, 0.0123, 0.0000, 0.0000, 0.0000,\n",
      "        0.0000, 0.0000, 0.0000, 0.0000, 0.0000, 0.0000, 0.0000, 0.0000, 0.0000,\n",
      "        0.0000, 0.0000, 0.0000, 0.0000, 0.0000, 0.0000, 0.0000, 0.0000, 0.0000,\n",
      "        0.0000, 0.0000, 0.0032, 0.0219, 0.0206, 0.0298, 0.0066, 0.0000, 0.0000,\n",
      "        0.0000, 0.0000, 0.0000, 0.0000, 0.0000, 0.0000, 0.0000, 0.0000, 0.0000,\n",
      "        0.0000, 0.0000, 0.0000, 0.0000, 0.0000, 0.0000, 0.0000, 0.0000, 0.0000,\n",
      "        0.0000, 0.0000, 0.0005, 0.0175, 0.0045, 0.0248, 0.0298, 0.0020, 0.0000,\n",
      "        0.0000, 0.0000, 0.0000, 0.0000, 0.0000, 0.0000, 0.0000, 0.0000, 0.0000,\n",
      "        0.0000, 0.0000, 0.0000, 0.0000, 0.0000, 0.0000, 0.0000, 0.0000, 0.0000,\n",
      "        0.0000, 0.0000, 0.0000, 0.0071, 0.0187, 0.0000, 0.0299, 0.0298, 0.0020,\n",
      "        0.0000, 0.0000, 0.0000, 0.0000, 0.0000, 0.0000, 0.0000, 0.0000, 0.0000,\n",
      "        0.0000, 0.0000, 0.0000, 0.0000, 0.0000, 0.0000, 0.0000, 0.0000, 0.0000,\n",
      "        0.0000, 0.0000, 0.0000, 0.0000, 0.0108, 0.0018, 0.0000, 0.0299, 0.0298,\n",
      "        0.0020, 0.0000, 0.0000, 0.0000, 0.0000, 0.0000, 0.0000, 0.0000, 0.0000,\n",
      "        0.0000, 0.0000, 0.0000, 0.0000, 0.0000, 0.0000, 0.0000, 0.0000, 0.0000,\n",
      "        0.0000, 0.0000, 0.0000, 0.0000, 0.0000, 0.0061, 0.0000, 0.0008, 0.0299,\n",
      "        0.0234, 0.0005, 0.0000, 0.0000, 0.0000, 0.0000, 0.0000, 0.0000, 0.0000,\n",
      "        0.0000, 0.0000, 0.0000, 0.0000, 0.0000, 0.0000, 0.0000, 0.0000, 0.0000,\n",
      "        0.0000, 0.0000, 0.0000, 0.0000, 0.0000, 0.0000, 0.0000, 0.0000, 0.0104,\n",
      "        0.0299, 0.0175, 0.0000, 0.0000, 0.0000, 0.0000, 0.0000, 0.0000, 0.0000,\n",
      "        0.0000, 0.0000, 0.0000, 0.0000, 0.0000, 0.0000, 0.0000, 0.0000, 0.0000,\n",
      "        0.0000, 0.0000, 0.0000, 0.0000, 0.0000, 0.0000, 0.0000, 0.0000, 0.0000,\n",
      "        0.0174, 0.0299, 0.0113, 0.0000, 0.0000, 0.0000, 0.0000, 0.0000, 0.0000,\n",
      "        0.0000, 0.0000, 0.0000, 0.0000, 0.0000, 0.0000, 0.0000, 0.0000, 0.0000,\n",
      "        0.0000, 0.0000, 0.0000, 0.0000, 0.0000, 0.0000, 0.0000, 0.0000, 0.0000,\n",
      "        0.0007, 0.0267, 0.0300, 0.0009, 0.0000, 0.0000, 0.0000, 0.0000, 0.0000,\n",
      "        0.0000, 0.0000, 0.0000, 0.0000, 0.0000, 0.0000, 0.0000, 0.0000, 0.0000,\n",
      "        0.0000, 0.0000, 0.0000, 0.0000, 0.0000, 0.0000, 0.0000, 0.0000, 0.0000,\n",
      "        0.0000, 0.0011, 0.0298, 0.0241, 0.0004, 0.0000, 0.0000, 0.0000, 0.0000,\n",
      "        0.0000, 0.0000, 0.0000, 0.0000, 0.0000, 0.0000, 0.0000, 0.0000, 0.0000,\n",
      "        0.0000, 0.0000, 0.0000, 0.0000, 0.0000, 0.0000, 0.0000, 0.0000, 0.0000,\n",
      "        0.0000, 0.0000, 0.0072, 0.0298, 0.0206, 0.0000, 0.0000, 0.0000, 0.0000,\n",
      "        0.0000, 0.0000, 0.0000, 0.0000, 0.0000, 0.0000, 0.0000, 0.0000, 0.0000,\n",
      "        0.0000, 0.0000, 0.0000, 0.0000, 0.0000, 0.0000, 0.0000, 0.0000, 0.0000,\n",
      "        0.0000, 0.0000, 0.0000, 0.0079, 0.0298, 0.0185, 0.0000, 0.0000, 0.0000,\n",
      "        0.0000, 0.0000, 0.0000, 0.0000, 0.0000, 0.0000, 0.0000, 0.0000, 0.0000,\n",
      "        0.0000, 0.0000, 0.0000, 0.0000, 0.0000, 0.0000, 0.0000, 0.0000, 0.0000,\n",
      "        0.0000, 0.0000, 0.0000, 0.0000, 0.0096, 0.0298, 0.0104, 0.0000, 0.0000,\n",
      "        0.0000, 0.0000, 0.0000, 0.0000, 0.0000, 0.0000, 0.0000, 0.0000, 0.0000,\n",
      "        0.0000, 0.0000, 0.0000, 0.0000, 0.0000, 0.0000, 0.0000, 0.0000, 0.0000,\n",
      "        0.0000, 0.0000, 0.0000, 0.0000, 0.0000, 0.0047, 0.0298, 0.0104, 0.0000,\n",
      "        0.0000, 0.0000, 0.0000, 0.0000, 0.0000, 0.0000, 0.0000, 0.0000, 0.0000,\n",
      "        0.0000, 0.0000, 0.0000, 0.0000, 0.0000, 0.0000, 0.0000, 0.0000, 0.0000,\n",
      "        0.0000, 0.0000, 0.0000, 0.0000, 0.0000, 0.0000, 0.0011, 0.0298, 0.0114,\n",
      "        0.0000, 0.0000, 0.0000, 0.0000, 0.0000, 0.0000, 0.0000, 0.0000, 0.0000,\n",
      "        0.0000, 0.0000, 0.0000, 0.0000, 0.0000, 0.0000, 0.0000, 0.0000, 0.0000,\n",
      "        0.0000, 0.0000, 0.0000, 0.0000, 0.0000, 0.0000, 0.0000, 0.0011, 0.0291,\n",
      "        0.0245, 0.0005, 0.0000, 0.0000, 0.0000, 0.0000, 0.0000, 0.0000, 0.0000,\n",
      "        0.0000, 0.0000, 0.0000, 0.0000, 0.0000, 0.0000, 0.0000, 0.0000, 0.0000,\n",
      "        0.0000, 0.0000, 0.0000, 0.0000, 0.0000, 0.0000, 0.0000, 0.0000, 0.0000,\n",
      "        0.0128, 0.0299, 0.0053, 0.0000, 0.0000, 0.0000, 0.0000, 0.0000, 0.0000,\n",
      "        0.0000, 0.0000, 0.0000, 0.0000, 0.0000, 0.0000, 0.0000, 0.0000, 0.0000,\n",
      "        0.0000, 0.0000, 0.0000, 0.0000, 0.0000, 0.0000, 0.0000, 0.0000, 0.0000,\n",
      "        0.0000, 0.0000, 0.0227, 0.0272, 0.0049, 0.0000, 0.0000, 0.0000, 0.0000,\n",
      "        0.0000, 0.0000, 0.0000, 0.0000, 0.0000, 0.0000, 0.0000, 0.0000, 0.0000,\n",
      "        0.0000, 0.0000, 0.0000, 0.0000, 0.0000, 0.0000, 0.0000, 0.0000, 0.0000,\n",
      "        0.0000, 0.0000, 0.0000, 0.0000, 0.0000, 0.0000, 0.0000, 0.0000, 0.0000,\n",
      "        0.0000, 0.0000, 0.0000, 0.0000, 0.0000, 0.0000, 0.0000, 0.0000, 0.0000,\n",
      "        0.0000, 0.0000, 0.0000, 0.0000, 0.0000, 0.0000, 0.0000, 0.0000, 0.0000,\n",
      "        0.0000, 0.0000, 0.0000, 0.0000, 0.0000, 0.0000, 0.0000, 0.0000, 0.0000,\n",
      "        0.0000, 0.0000, 0.0000, 0.0000, 0.0000, 0.0000, 0.0000, 0.0000, 0.0000,\n",
      "        0.0000, 0.0000, 0.0000, 0.0000, 0.0000, 0.0000, 0.0000, 0.0000, 0.0000,\n",
      "        0.0000, 0.0000, 0.0000, 0.0000, 0.0000, 0.0000, 0.0000, 0.0000, 0.0000,\n",
      "        0.0000, 0.0000, 0.0000, 0.0000, 0.0000, 0.0000, 0.0000, 0.0000, 0.0000,\n",
      "        0.0000])\n",
      "Stochastic gradient dJ/db: tensor([0.0300])\n"
     ]
    },
    {
     "name": "stderr",
     "output_type": "stream",
     "text": [
      "/tmp/ipykernel_149823/1626184039.py:7: UserWarning: To copy construct from a tensor, it is recommended to use sourceTensor.clone().detach() or sourceTensor.clone().detach().requires_grad_(True), rather than torch.tensor(sourceTensor).\n",
      "  X_batch = torch.tensor(X[indices, :], dtype=torch.float32)\n",
      "/tmp/ipykernel_149823/1626184039.py:8: UserWarning: To copy construct from a tensor, it is recommended to use sourceTensor.clone().detach() or sourceTensor.clone().detach().requires_grad_(True), rather than torch.tensor(sourceTensor).\n",
      "  y_batch = torch.tensor(y[indices], dtype=torch.float32)\n"
     ]
    }
   ],
   "source": [
    "# Stochastic Gradient Descent\n",
    "# using a batch size of b = 32, write a function that returns a stochastic gradient of J by choosing b\n",
    "# randomly chosen images from the dataset.\n",
    "\n",
    "def stochastic_gradient(X, y, w, b, batch_size=32):\n",
    "    indices = np.random.choice(X.shape[0], size=batch_size, replace=False)\n",
    "    X_batch = torch.tensor(X[indices, :], dtype=torch.float32)\n",
    "    y_batch = torch.tensor(y[indices], dtype=torch.float32)\n",
    "    w.grad = None\n",
    "    b.grad = None\n",
    "    y_pred_batch = model(X_batch, w, b)\n",
    "    loss = loss_fn(y_pred_batch, y_batch)\n",
    "    loss.backward()\n",
    "    return w.grad, b.grad \n",
    "\n",
    "# test the stochastic gradient function\n",
    "dJ_dw_sgd, dJ_db_sgd = stochastic_gradient(X_tensor, y_tensor, w_tensor, b_tensor, batch_size=32)\n",
    "print(\"Stochastic gradient dJ/dw:\", dJ_dw_sgd)\n",
    "print(\"Stochastic gradient dJ/db:\", dJ_db_sgd)"
   ]
  },
  {
   "cell_type": "code",
   "execution_count": 120,
   "id": "86b8511b",
   "metadata": {},
   "outputs": [
    {
     "name": "stdout",
     "output_type": "stream",
     "text": [
      "Difference in dJ/dw: tensor(0.0054)\n",
      "Difference in dJ/db: tensor([0.0002])\n"
     ]
    },
    {
     "name": "stderr",
     "output_type": "stream",
     "text": [
      "/tmp/ipykernel_149823/1626184039.py:7: UserWarning: To copy construct from a tensor, it is recommended to use sourceTensor.clone().detach() or sourceTensor.clone().detach().requires_grad_(True), rather than torch.tensor(sourceTensor).\n",
      "  X_batch = torch.tensor(X[indices, :], dtype=torch.float32)\n",
      "/tmp/ipykernel_149823/1626184039.py:8: UserWarning: To copy construct from a tensor, it is recommended to use sourceTensor.clone().detach() or sourceTensor.clone().detach().requires_grad_(True), rather than torch.tensor(sourceTensor).\n",
      "  y_batch = torch.tensor(y[indices], dtype=torch.float32)\n"
     ]
    }
   ],
   "source": [
    "# compute the full gradient using the entire dataset\n",
    "def full_gradient(X, y, w, b):\n",
    "    w.grad = None\n",
    "    b.grad = None\n",
    "    y_pred = model(X, w, b)\n",
    "    loss = loss_fn(y_pred, y)\n",
    "    loss.backward()\n",
    "    return w.grad, b.grad\n",
    "\n",
    "# test the full gradient function\n",
    "dJ_dw_full, dJ_db_full = full_gradient(X_tensor, y_tensor, w_tensor, b_tensor)\n",
    "\n",
    "# call the stochastic gradient function multiple times and average the results\n",
    "num_samples = 100\n",
    "dJ_dw_avg = torch.zeros_like(w_tensor)\n",
    "dJ_db_avg = torch.zeros_like(b_tensor)\n",
    "for _ in range(num_samples):\n",
    "    dJ_dw_sgd, dJ_db_sgd = stochastic_gradient(X_tensor, y_tensor, w_tensor, b_tensor, batch_size=32)\n",
    "    dJ_dw_avg += dJ_dw_sgd / num_samples\n",
    "    dJ_db_avg += dJ_db_sgd / num_samples\n",
    "\n",
    "# compare the average stochastic gradient with the full gradient\n",
    "print(\"Difference in dJ/dw:\", torch.norm(dJ_dw_avg - dJ_dw_full))\n",
    "print(\"Difference in dJ/db:\", torch.abs(dJ_db_avg - dJ_db_full))"
   ]
  },
  {
   "cell_type": "code",
   "execution_count": null,
   "id": "62a64ccb",
   "metadata": {},
   "outputs": [],
   "source": []
  }
 ],
 "metadata": {
  "kernelspec": {
   "display_name": "Python 3",
   "language": "python",
   "name": "python3"
  },
  "language_info": {
   "codemirror_mode": {
    "name": "ipython",
    "version": 3
   },
   "file_extension": ".py",
   "mimetype": "text/x-python",
   "name": "python",
   "nbconvert_exporter": "python",
   "pygments_lexer": "ipython3",
   "version": "3.8.10"
  }
 },
 "nbformat": 4,
 "nbformat_minor": 5
}
